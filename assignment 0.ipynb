{
 "cells": [
  {
   "cell_type": "code",
   "execution_count": 1,
   "id": "3b113b84-3558-4f86-9f05-005caaf3d1cf",
   "metadata": {},
   "outputs": [],
   "source": [
    "import numpy as np\n",
    "age_array = np.array([23, 23, 27, 27, 39, 41, 47, 49, 50, 52])\n",
    "body_fat_array = np.array([9.5, 26.5, 7.8, 17.8, 31.4, 25.9, 27.4, 27.2, 31.2, 34.6])"
   ]
  },
  {
   "cell_type": "code",
   "execution_count": 2,
   "id": "dfe1a521-4d66-450c-8328-c047704f6ae0",
   "metadata": {},
   "outputs": [],
   "source": [
    "assert len(age_array) == 10, 'The age_array should have 10 items.'\n",
    "assert len(body_fat_array) == 10, 'The body_fat_array should have 10 items.'\n",
    "assert age_array[0] == 23, 'The first item in the age_array should be 23'\n",
    "assert body_fat_array[0] == 9.5, 'The first item in the body_fat_array should be 9.5'\n"
   ]
  },
  {
   "cell_type": "code",
   "execution_count": null,
   "id": "180b9b80-75d3-4c49-bba4-ca9d99c75252",
   "metadata": {},
   "outputs": [],
   "source": []
  }
 ],
 "metadata": {
  "kernelspec": {
   "display_name": "Python 3 (ipykernel)",
   "language": "python",
   "name": "python3"
  },
  "language_info": {
   "codemirror_mode": {
    "name": "ipython",
    "version": 3
   },
   "file_extension": ".py",
   "mimetype": "text/x-python",
   "name": "python",
   "nbconvert_exporter": "python",
   "pygments_lexer": "ipython3",
   "version": "3.9.12"
  }
 },
 "nbformat": 4,
 "nbformat_minor": 5
}
